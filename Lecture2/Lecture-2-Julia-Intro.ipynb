{
 "cells": [
  {
   "cell_type": "code",
   "execution_count": 1,
   "id": "cea5d26d",
   "metadata": {},
   "outputs": [],
   "source": [
    "using Plots"
   ]
  },
  {
   "cell_type": "code",
   "execution_count": 22,
   "id": "76c585f6",
   "metadata": {},
   "outputs": [
    {
     "data": {
      "image/svg+xml": [
       "<?xml version=\"1.0\" encoding=\"utf-8\"?>\n",
       "<svg xmlns=\"http://www.w3.org/2000/svg\" xmlns:xlink=\"http://www.w3.org/1999/xlink\" width=\"600\" height=\"400\" viewBox=\"0 0 2400 1600\">\n",
       "<defs>\n",
       "  <clipPath id=\"clip730\">\n",
       "    <rect x=\"0\" y=\"0\" width=\"2400\" height=\"1600\"/>\n",
       "  </clipPath>\n",
       "</defs>\n",
       "<path clip-path=\"url(#clip730)\" d=\"\n",
       "M0 1600 L2400 1600 L2400 0 L0 0  Z\n",
       "  \" fill=\"#ffffff\" fill-rule=\"evenodd\" fill-opacity=\"1\"/>\n",
       "<defs>\n",
       "  <clipPath id=\"clip731\">\n",
       "    <rect x=\"480\" y=\"0\" width=\"1681\" height=\"1600\"/>\n",
       "  </clipPath>\n",
       "</defs>\n",
       "<path clip-path=\"url(#clip730)\" d=\"\n",
       "M178.867 1486.45 L2352.76 1486.45 L2352.76 47.2441 L178.867 47.2441  Z\n",
       "  \" fill=\"#ffffff\" fill-rule=\"evenodd\" fill-opacity=\"1\"/>\n",
       "<defs>\n",
       "  <clipPath id=\"clip732\">\n",
       "    <rect x=\"178\" y=\"47\" width=\"2175\" height=\"1440\"/>\n",
       "  </clipPath>\n",
       "</defs>\n",
       "<polyline clip-path=\"url(#clip732)\" style=\"stroke:#000000; stroke-linecap:round; stroke-linejoin:round; stroke-width:2; stroke-opacity:0.1; fill:none\" points=\"\n",
       "  219.676,1486.45 219.676,47.2441 \n",
       "  \"/>\n",
       "<polyline clip-path=\"url(#clip732)\" style=\"stroke:#000000; stroke-linecap:round; stroke-linejoin:round; stroke-width:2; stroke-opacity:0.1; fill:none\" points=\"\n",
       "  737.565,1486.45 737.565,47.2441 \n",
       "  \"/>\n",
       "<polyline clip-path=\"url(#clip732)\" style=\"stroke:#000000; stroke-linecap:round; stroke-linejoin:round; stroke-width:2; stroke-opacity:0.1; fill:none\" points=\"\n",
       "  1255.45,1486.45 1255.45,47.2441 \n",
       "  \"/>\n",
       "<polyline clip-path=\"url(#clip732)\" style=\"stroke:#000000; stroke-linecap:round; stroke-linejoin:round; stroke-width:2; stroke-opacity:0.1; fill:none\" points=\"\n",
       "  1773.34,1486.45 1773.34,47.2441 \n",
       "  \"/>\n",
       "<polyline clip-path=\"url(#clip732)\" style=\"stroke:#000000; stroke-linecap:round; stroke-linejoin:round; stroke-width:2; stroke-opacity:0.1; fill:none\" points=\"\n",
       "  2291.23,1486.45 2291.23,47.2441 \n",
       "  \"/>\n",
       "<polyline clip-path=\"url(#clip730)\" style=\"stroke:#000000; stroke-linecap:round; stroke-linejoin:round; stroke-width:4; stroke-opacity:1; fill:none\" points=\"\n",
       "  178.867,1486.45 2352.76,1486.45 \n",
       "  \"/>\n",
       "<polyline clip-path=\"url(#clip730)\" style=\"stroke:#000000; stroke-linecap:round; stroke-linejoin:round; stroke-width:4; stroke-opacity:1; fill:none\" points=\"\n",
       "  219.676,1486.45 219.676,1467.55 \n",
       "  \"/>\n",
       "<polyline clip-path=\"url(#clip730)\" style=\"stroke:#000000; stroke-linecap:round; stroke-linejoin:round; stroke-width:4; stroke-opacity:1; fill:none\" points=\"\n",
       "  737.565,1486.45 737.565,1467.55 \n",
       "  \"/>\n",
       "<polyline clip-path=\"url(#clip730)\" style=\"stroke:#000000; stroke-linecap:round; stroke-linejoin:round; stroke-width:4; stroke-opacity:1; fill:none\" points=\"\n",
       "  1255.45,1486.45 1255.45,1467.55 \n",
       "  \"/>\n",
       "<polyline clip-path=\"url(#clip730)\" style=\"stroke:#000000; stroke-linecap:round; stroke-linejoin:round; stroke-width:4; stroke-opacity:1; fill:none\" points=\"\n",
       "  1773.34,1486.45 1773.34,1467.55 \n",
       "  \"/>\n",
       "<polyline clip-path=\"url(#clip730)\" style=\"stroke:#000000; stroke-linecap:round; stroke-linejoin:round; stroke-width:4; stroke-opacity:1; fill:none\" points=\"\n",
       "  2291.23,1486.45 2291.23,1467.55 \n",
       "  \"/>\n",
       "<path clip-path=\"url(#clip730)\" d=\"M219.676 1517.37 Q216.065 1517.37 214.236 1520.93 Q212.431 1524.47 212.431 1531.6 Q212.431 1538.71 214.236 1542.27 Q216.065 1545.82 219.676 1545.82 Q223.31 1545.82 225.116 1542.27 Q226.945 1538.71 226.945 1531.6 Q226.945 1524.47 225.116 1520.93 Q223.31 1517.37 219.676 1517.37 M219.676 1513.66 Q225.486 1513.66 228.542 1518.27 Q231.621 1522.85 231.621 1531.6 Q231.621 1540.33 228.542 1544.94 Q225.486 1549.52 219.676 1549.52 Q213.866 1549.52 210.787 1544.94 Q207.732 1540.33 207.732 1531.6 Q207.732 1522.85 210.787 1518.27 Q213.866 1513.66 219.676 1513.66 Z\" fill=\"#000000\" fill-rule=\"evenodd\" fill-opacity=\"1\" /><path clip-path=\"url(#clip730)\" d=\"M716.836 1544.91 L733.155 1544.91 L733.155 1548.85 L711.211 1548.85 L711.211 1544.91 Q713.873 1542.16 718.456 1537.53 Q723.063 1532.88 724.243 1531.53 Q726.489 1529.01 727.368 1527.27 Q728.271 1525.51 728.271 1523.82 Q728.271 1521.07 726.327 1519.33 Q724.405 1517.6 721.303 1517.6 Q719.104 1517.6 716.651 1518.36 Q714.22 1519.13 711.442 1520.68 L711.442 1515.95 Q714.266 1514.82 716.72 1514.24 Q719.174 1513.66 721.211 1513.66 Q726.581 1513.66 729.776 1516.35 Q732.97 1519.03 732.97 1523.52 Q732.97 1525.65 732.16 1527.57 Q731.373 1529.47 729.266 1532.07 Q728.688 1532.74 725.586 1535.95 Q722.484 1539.15 716.836 1544.91 Z\" fill=\"#000000\" fill-rule=\"evenodd\" fill-opacity=\"1\" /><path clip-path=\"url(#clip730)\" d=\"M743.016 1514.29 L761.373 1514.29 L761.373 1518.22 L747.299 1518.22 L747.299 1526.7 Q748.317 1526.35 749.336 1526.19 Q750.354 1526 751.373 1526 Q757.16 1526 760.539 1529.17 Q763.919 1532.34 763.919 1537.76 Q763.919 1543.34 760.447 1546.44 Q756.974 1549.52 750.655 1549.52 Q748.479 1549.52 746.211 1549.15 Q743.965 1548.78 741.558 1548.04 L741.558 1543.34 Q743.641 1544.47 745.863 1545.03 Q748.086 1545.58 750.562 1545.58 Q754.567 1545.58 756.905 1543.48 Q759.243 1541.37 759.243 1537.76 Q759.243 1534.15 756.905 1532.04 Q754.567 1529.94 750.562 1529.94 Q748.688 1529.94 746.813 1530.35 Q744.961 1530.77 743.016 1531.65 L743.016 1514.29 Z\" fill=\"#000000\" fill-rule=\"evenodd\" fill-opacity=\"1\" /><path clip-path=\"url(#clip730)\" d=\"M1230.15 1514.29 L1248.51 1514.29 L1248.51 1518.22 L1234.44 1518.22 L1234.44 1526.7 Q1235.45 1526.35 1236.47 1526.19 Q1237.49 1526 1238.51 1526 Q1244.3 1526 1247.68 1529.17 Q1251.06 1532.34 1251.06 1537.76 Q1251.06 1543.34 1247.58 1546.44 Q1244.11 1549.52 1237.79 1549.52 Q1235.62 1549.52 1233.35 1549.15 Q1231.1 1548.78 1228.69 1548.04 L1228.69 1543.34 Q1230.78 1544.47 1233 1545.03 Q1235.22 1545.58 1237.7 1545.58 Q1241.7 1545.58 1244.04 1543.48 Q1246.38 1541.37 1246.38 1537.76 Q1246.38 1534.15 1244.04 1532.04 Q1241.7 1529.94 1237.7 1529.94 Q1235.82 1529.94 1233.95 1530.35 Q1232.1 1530.77 1230.15 1531.65 L1230.15 1514.29 Z\" fill=\"#000000\" fill-rule=\"evenodd\" fill-opacity=\"1\" /><path clip-path=\"url(#clip730)\" d=\"M1270.27 1517.37 Q1266.66 1517.37 1264.83 1520.93 Q1263.02 1524.47 1263.02 1531.6 Q1263.02 1538.71 1264.83 1542.27 Q1266.66 1545.82 1270.27 1545.82 Q1273.9 1545.82 1275.71 1542.27 Q1277.54 1538.71 1277.54 1531.6 Q1277.54 1524.47 1275.71 1520.93 Q1273.9 1517.37 1270.27 1517.37 M1270.27 1513.66 Q1276.08 1513.66 1279.13 1518.27 Q1282.21 1522.85 1282.21 1531.6 Q1282.21 1540.33 1279.13 1544.94 Q1276.08 1549.52 1270.27 1549.52 Q1264.46 1549.52 1261.38 1544.94 Q1258.32 1540.33 1258.32 1531.6 Q1258.32 1522.85 1261.38 1518.27 Q1264.46 1513.66 1270.27 1513.66 Z\" fill=\"#000000\" fill-rule=\"evenodd\" fill-opacity=\"1\" /><path clip-path=\"url(#clip730)\" d=\"M1747.2 1514.29 L1769.42 1514.29 L1769.42 1516.28 L1756.87 1548.85 L1751.99 1548.85 L1763.79 1518.22 L1747.2 1518.22 L1747.2 1514.29 Z\" fill=\"#000000\" fill-rule=\"evenodd\" fill-opacity=\"1\" /><path clip-path=\"url(#clip730)\" d=\"M1778.59 1514.29 L1796.94 1514.29 L1796.94 1518.22 L1782.87 1518.22 L1782.87 1526.7 Q1783.89 1526.35 1784.9 1526.19 Q1785.92 1526 1786.94 1526 Q1792.73 1526 1796.11 1529.17 Q1799.49 1532.34 1799.49 1537.76 Q1799.49 1543.34 1796.02 1546.44 Q1792.54 1549.52 1786.22 1549.52 Q1784.05 1549.52 1781.78 1549.15 Q1779.53 1548.78 1777.13 1548.04 L1777.13 1543.34 Q1779.21 1544.47 1781.43 1545.03 Q1783.65 1545.58 1786.13 1545.58 Q1790.14 1545.58 1792.47 1543.48 Q1794.81 1541.37 1794.81 1537.76 Q1794.81 1534.15 1792.47 1532.04 Q1790.14 1529.94 1786.13 1529.94 Q1784.26 1529.94 1782.38 1530.35 Q1780.53 1530.77 1778.59 1531.65 L1778.59 1514.29 Z\" fill=\"#000000\" fill-rule=\"evenodd\" fill-opacity=\"1\" /><path clip-path=\"url(#clip730)\" d=\"M2250.84 1544.91 L2258.48 1544.91 L2258.48 1518.55 L2250.17 1520.21 L2250.17 1515.95 L2258.43 1514.29 L2263.11 1514.29 L2263.11 1544.91 L2270.74 1544.91 L2270.74 1548.85 L2250.84 1548.85 L2250.84 1544.91 Z\" fill=\"#000000\" fill-rule=\"evenodd\" fill-opacity=\"1\" /><path clip-path=\"url(#clip730)\" d=\"M2290.19 1517.37 Q2286.58 1517.37 2284.75 1520.93 Q2282.94 1524.47 2282.94 1531.6 Q2282.94 1538.71 2284.75 1542.27 Q2286.58 1545.82 2290.19 1545.82 Q2293.82 1545.82 2295.63 1542.27 Q2297.46 1538.71 2297.46 1531.6 Q2297.46 1524.47 2295.63 1520.93 Q2293.82 1517.37 2290.19 1517.37 M2290.19 1513.66 Q2296 1513.66 2299.05 1518.27 Q2302.13 1522.85 2302.13 1531.6 Q2302.13 1540.33 2299.05 1544.94 Q2296 1549.52 2290.19 1549.52 Q2284.38 1549.52 2281.3 1544.94 Q2278.24 1540.33 2278.24 1531.6 Q2278.24 1522.85 2281.3 1518.27 Q2284.38 1513.66 2290.19 1513.66 Z\" fill=\"#000000\" fill-rule=\"evenodd\" fill-opacity=\"1\" /><path clip-path=\"url(#clip730)\" d=\"M2320.35 1517.37 Q2316.74 1517.37 2314.91 1520.93 Q2313.11 1524.47 2313.11 1531.6 Q2313.11 1538.71 2314.91 1542.27 Q2316.74 1545.82 2320.35 1545.82 Q2323.99 1545.82 2325.79 1542.27 Q2327.62 1538.71 2327.62 1531.6 Q2327.62 1524.47 2325.79 1520.93 Q2323.99 1517.37 2320.35 1517.37 M2320.35 1513.66 Q2326.16 1513.66 2329.22 1518.27 Q2332.3 1522.85 2332.3 1531.6 Q2332.3 1540.33 2329.22 1544.94 Q2326.16 1549.52 2320.35 1549.52 Q2314.54 1549.52 2311.46 1544.94 Q2308.41 1540.33 2308.41 1531.6 Q2308.41 1522.85 2311.46 1518.27 Q2314.54 1513.66 2320.35 1513.66 Z\" fill=\"#000000\" fill-rule=\"evenodd\" fill-opacity=\"1\" /><polyline clip-path=\"url(#clip732)\" style=\"stroke:#000000; stroke-linecap:round; stroke-linejoin:round; stroke-width:2; stroke-opacity:0.1; fill:none\" points=\"\n",
       "  178.867,1400.21 2352.76,1400.21 \n",
       "  \"/>\n",
       "<polyline clip-path=\"url(#clip732)\" style=\"stroke:#000000; stroke-linecap:round; stroke-linejoin:round; stroke-width:2; stroke-opacity:0.1; fill:none\" points=\"\n",
       "  178.867,1229.18 2352.76,1229.18 \n",
       "  \"/>\n",
       "<polyline clip-path=\"url(#clip732)\" style=\"stroke:#000000; stroke-linecap:round; stroke-linejoin:round; stroke-width:2; stroke-opacity:0.1; fill:none\" points=\"\n",
       "  178.867,1058.15 2352.76,1058.15 \n",
       "  \"/>\n",
       "<polyline clip-path=\"url(#clip732)\" style=\"stroke:#000000; stroke-linecap:round; stroke-linejoin:round; stroke-width:2; stroke-opacity:0.1; fill:none\" points=\"\n",
       "  178.867,887.118 2352.76,887.118 \n",
       "  \"/>\n",
       "<polyline clip-path=\"url(#clip732)\" style=\"stroke:#000000; stroke-linecap:round; stroke-linejoin:round; stroke-width:2; stroke-opacity:0.1; fill:none\" points=\"\n",
       "  178.867,716.087 2352.76,716.087 \n",
       "  \"/>\n",
       "<polyline clip-path=\"url(#clip732)\" style=\"stroke:#000000; stroke-linecap:round; stroke-linejoin:round; stroke-width:2; stroke-opacity:0.1; fill:none\" points=\"\n",
       "  178.867,545.057 2352.76,545.057 \n",
       "  \"/>\n",
       "<polyline clip-path=\"url(#clip732)\" style=\"stroke:#000000; stroke-linecap:round; stroke-linejoin:round; stroke-width:2; stroke-opacity:0.1; fill:none\" points=\"\n",
       "  178.867,374.027 2352.76,374.027 \n",
       "  \"/>\n",
       "<polyline clip-path=\"url(#clip732)\" style=\"stroke:#000000; stroke-linecap:round; stroke-linejoin:round; stroke-width:2; stroke-opacity:0.1; fill:none\" points=\"\n",
       "  178.867,202.997 2352.76,202.997 \n",
       "  \"/>\n",
       "<polyline clip-path=\"url(#clip730)\" style=\"stroke:#000000; stroke-linecap:round; stroke-linejoin:round; stroke-width:4; stroke-opacity:1; fill:none\" points=\"\n",
       "  178.867,1486.45 178.867,47.2441 \n",
       "  \"/>\n",
       "<polyline clip-path=\"url(#clip730)\" style=\"stroke:#000000; stroke-linecap:round; stroke-linejoin:round; stroke-width:4; stroke-opacity:1; fill:none\" points=\"\n",
       "  178.867,1400.21 197.764,1400.21 \n",
       "  \"/>\n",
       "<polyline clip-path=\"url(#clip730)\" style=\"stroke:#000000; stroke-linecap:round; stroke-linejoin:round; stroke-width:4; stroke-opacity:1; fill:none\" points=\"\n",
       "  178.867,1229.18 197.764,1229.18 \n",
       "  \"/>\n",
       "<polyline clip-path=\"url(#clip730)\" style=\"stroke:#000000; stroke-linecap:round; stroke-linejoin:round; stroke-width:4; stroke-opacity:1; fill:none\" points=\"\n",
       "  178.867,1058.15 197.764,1058.15 \n",
       "  \"/>\n",
       "<polyline clip-path=\"url(#clip730)\" style=\"stroke:#000000; stroke-linecap:round; stroke-linejoin:round; stroke-width:4; stroke-opacity:1; fill:none\" points=\"\n",
       "  178.867,887.118 197.764,887.118 \n",
       "  \"/>\n",
       "<polyline clip-path=\"url(#clip730)\" style=\"stroke:#000000; stroke-linecap:round; stroke-linejoin:round; stroke-width:4; stroke-opacity:1; fill:none\" points=\"\n",
       "  178.867,716.087 197.764,716.087 \n",
       "  \"/>\n",
       "<polyline clip-path=\"url(#clip730)\" style=\"stroke:#000000; stroke-linecap:round; stroke-linejoin:round; stroke-width:4; stroke-opacity:1; fill:none\" points=\"\n",
       "  178.867,545.057 197.764,545.057 \n",
       "  \"/>\n",
       "<polyline clip-path=\"url(#clip730)\" style=\"stroke:#000000; stroke-linecap:round; stroke-linejoin:round; stroke-width:4; stroke-opacity:1; fill:none\" points=\"\n",
       "  178.867,374.027 197.764,374.027 \n",
       "  \"/>\n",
       "<polyline clip-path=\"url(#clip730)\" style=\"stroke:#000000; stroke-linecap:round; stroke-linejoin:round; stroke-width:4; stroke-opacity:1; fill:none\" points=\"\n",
       "  178.867,202.997 197.764,202.997 \n",
       "  \"/>\n",
       "<path clip-path=\"url(#clip730)\" d=\"M52.5893 1400.66 L82.2651 1400.66 L82.2651 1404.59 L52.5893 1404.59 L52.5893 1400.66 Z\" fill=\"#000000\" fill-rule=\"evenodd\" fill-opacity=\"1\" /><path clip-path=\"url(#clip730)\" d=\"M93.1678 1413.55 L100.807 1413.55 L100.807 1387.19 L92.4965 1388.85 L92.4965 1384.59 L100.76 1382.93 L105.436 1382.93 L105.436 1413.55 L113.075 1413.55 L113.075 1417.49 L93.1678 1417.49 L93.1678 1413.55 Z\" fill=\"#000000\" fill-rule=\"evenodd\" fill-opacity=\"1\" /><path clip-path=\"url(#clip730)\" d=\"M126.547 1413.55 L142.867 1413.55 L142.867 1417.49 L120.922 1417.49 L120.922 1413.55 Q123.584 1410.8 128.168 1406.17 Q132.774 1401.52 133.955 1400.17 Q136.2 1397.65 137.08 1395.91 Q137.982 1394.15 137.982 1392.47 Q137.982 1389.71 136.038 1387.97 Q134.117 1386.24 131.015 1386.24 Q128.816 1386.24 126.362 1387 Q123.932 1387.77 121.154 1389.32 L121.154 1384.59 Q123.978 1383.46 126.432 1382.88 Q128.885 1382.3 130.922 1382.3 Q136.293 1382.3 139.487 1384.99 Q142.681 1387.67 142.681 1392.16 Q142.681 1394.29 141.871 1396.22 Q141.084 1398.11 138.978 1400.71 Q138.399 1401.38 135.297 1404.59 Q132.195 1407.79 126.547 1413.55 Z\" fill=\"#000000\" fill-rule=\"evenodd\" fill-opacity=\"1\" /><path clip-path=\"url(#clip730)\" d=\"M50.9921 1229.63 L80.6679 1229.63 L80.6679 1233.56 L50.9921 1233.56 L50.9921 1229.63 Z\" fill=\"#000000\" fill-rule=\"evenodd\" fill-opacity=\"1\" /><path clip-path=\"url(#clip730)\" d=\"M91.5706 1242.52 L99.2095 1242.52 L99.2095 1216.16 L90.8993 1217.82 L90.8993 1213.56 L99.1632 1211.9 L103.839 1211.9 L103.839 1242.52 L111.478 1242.52 L111.478 1246.46 L91.5706 1246.46 L91.5706 1242.52 Z\" fill=\"#000000\" fill-rule=\"evenodd\" fill-opacity=\"1\" /><path clip-path=\"url(#clip730)\" d=\"M130.922 1214.98 Q127.311 1214.98 125.482 1218.54 Q123.677 1222.08 123.677 1229.21 Q123.677 1236.32 125.482 1239.88 Q127.311 1243.43 130.922 1243.43 Q134.556 1243.43 136.362 1239.88 Q138.191 1236.32 138.191 1229.21 Q138.191 1222.08 136.362 1218.54 Q134.556 1214.98 130.922 1214.98 M130.922 1211.27 Q136.732 1211.27 139.788 1215.88 Q142.867 1220.46 142.867 1229.21 Q142.867 1237.94 139.788 1242.55 Q136.732 1247.13 130.922 1247.13 Q125.112 1247.13 122.033 1242.55 Q118.978 1237.94 118.978 1229.21 Q118.978 1220.46 122.033 1215.88 Q125.112 1211.27 130.922 1211.27 Z\" fill=\"#000000\" fill-rule=\"evenodd\" fill-opacity=\"1\" /><path clip-path=\"url(#clip730)\" d=\"M81.2466 1058.6 L110.922 1058.6 L110.922 1062.53 L81.2466 1062.53 L81.2466 1058.6 Z\" fill=\"#000000\" fill-rule=\"evenodd\" fill-opacity=\"1\" /><path clip-path=\"url(#clip730)\" d=\"M131.015 1059.02 Q127.682 1059.02 125.76 1060.8 Q123.862 1062.58 123.862 1065.71 Q123.862 1068.83 125.76 1070.61 Q127.682 1072.4 131.015 1072.4 Q134.348 1072.4 136.269 1070.61 Q138.191 1068.81 138.191 1065.71 Q138.191 1062.58 136.269 1060.8 Q134.371 1059.02 131.015 1059.02 M126.339 1057.03 Q123.33 1056.28 121.64 1054.22 Q119.973 1052.16 119.973 1049.2 Q119.973 1045.06 122.913 1042.65 Q125.876 1040.24 131.015 1040.24 Q136.177 1040.24 139.117 1042.65 Q142.056 1045.06 142.056 1049.2 Q142.056 1052.16 140.367 1054.22 Q138.7 1056.28 135.714 1057.03 Q139.094 1057.81 140.968 1060.1 Q142.867 1062.4 142.867 1065.71 Q142.867 1070.73 139.788 1073.41 Q136.732 1076.1 131.015 1076.1 Q125.297 1076.1 122.219 1073.41 Q119.163 1070.73 119.163 1065.71 Q119.163 1062.4 121.061 1060.1 Q122.959 1057.81 126.339 1057.03 M124.626 1049.64 Q124.626 1052.33 126.293 1053.83 Q127.982 1055.34 131.015 1055.34 Q134.024 1055.34 135.714 1053.83 Q137.427 1052.33 137.427 1049.64 Q137.427 1046.96 135.714 1045.45 Q134.024 1043.95 131.015 1043.95 Q127.982 1043.95 126.293 1045.45 Q124.626 1046.96 124.626 1049.64 Z\" fill=\"#000000\" fill-rule=\"evenodd\" fill-opacity=\"1\" /><path clip-path=\"url(#clip730)\" d=\"M80.992 887.569 L110.668 887.569 L110.668 891.504 L80.992 891.504 L80.992 887.569 Z\" fill=\"#000000\" fill-rule=\"evenodd\" fill-opacity=\"1\" /><path clip-path=\"url(#clip730)\" d=\"M131.339 885.254 Q128.191 885.254 126.339 887.407 Q124.51 889.56 124.51 893.31 Q124.51 897.037 126.339 899.212 Q128.191 901.365 131.339 901.365 Q134.487 901.365 136.316 899.212 Q138.168 897.037 138.168 893.31 Q138.168 889.56 136.316 887.407 Q134.487 885.254 131.339 885.254 M140.621 870.602 L140.621 874.861 Q138.862 874.027 137.056 873.588 Q135.274 873.148 133.515 873.148 Q128.885 873.148 126.432 876.273 Q124.001 879.398 123.654 885.717 Q125.02 883.703 127.08 882.638 Q129.14 881.551 131.617 881.551 Q136.825 881.551 139.834 884.722 Q142.867 887.87 142.867 893.31 Q142.867 898.634 139.719 901.851 Q136.57 905.069 131.339 905.069 Q125.344 905.069 122.172 900.486 Q119.001 895.879 119.001 887.152 Q119.001 878.958 122.89 874.097 Q126.779 869.213 133.33 869.213 Q135.089 869.213 136.871 869.56 Q138.677 869.907 140.621 870.602 Z\" fill=\"#000000\" fill-rule=\"evenodd\" fill-opacity=\"1\" /><path clip-path=\"url(#clip730)\" d=\"M80.6679 716.539 L110.344 716.539 L110.344 720.474 L80.6679 720.474 L80.6679 716.539 Z\" fill=\"#000000\" fill-rule=\"evenodd\" fill-opacity=\"1\" /><path clip-path=\"url(#clip730)\" d=\"M133.283 702.882 L121.478 721.33 L133.283 721.33 L133.283 702.882 M132.057 698.807 L137.936 698.807 L137.936 721.33 L142.867 721.33 L142.867 725.219 L137.936 725.219 L137.936 733.367 L133.283 733.367 L133.283 725.219 L117.682 725.219 L117.682 720.705 L132.057 698.807 Z\" fill=\"#000000\" fill-rule=\"evenodd\" fill-opacity=\"1\" /><path clip-path=\"url(#clip730)\" d=\"M82.7512 545.509 L112.427 545.509 L112.427 549.444 L82.7512 549.444 L82.7512 545.509 Z\" fill=\"#000000\" fill-rule=\"evenodd\" fill-opacity=\"1\" /><path clip-path=\"url(#clip730)\" d=\"M126.547 558.402 L142.867 558.402 L142.867 562.337 L120.922 562.337 L120.922 558.402 Q123.584 555.647 128.168 551.018 Q132.774 546.365 133.955 545.023 Q136.2 542.499 137.08 540.763 Q137.982 539.004 137.982 537.314 Q137.982 534.56 136.038 532.824 Q134.117 531.087 131.015 531.087 Q128.816 531.087 126.362 531.851 Q123.932 532.615 121.154 534.166 L121.154 529.444 Q123.978 528.31 126.432 527.731 Q128.885 527.152 130.922 527.152 Q136.293 527.152 139.487 529.837 Q142.681 532.523 142.681 537.013 Q142.681 539.143 141.871 541.064 Q141.084 542.962 138.978 545.555 Q138.399 546.226 135.297 549.444 Q132.195 552.638 126.547 558.402 Z\" fill=\"#000000\" fill-rule=\"evenodd\" fill-opacity=\"1\" /><path clip-path=\"url(#clip730)\" d=\"M130.922 359.826 Q127.311 359.826 125.482 363.391 Q123.677 366.932 123.677 374.062 Q123.677 381.168 125.482 384.733 Q127.311 388.275 130.922 388.275 Q134.556 388.275 136.362 384.733 Q138.191 381.168 138.191 374.062 Q138.191 366.932 136.362 363.391 Q134.556 359.826 130.922 359.826 M130.922 356.122 Q136.732 356.122 139.788 360.729 Q142.867 365.312 142.867 374.062 Q142.867 382.789 139.788 387.395 Q136.732 391.978 130.922 391.978 Q125.112 391.978 122.033 387.395 Q118.978 382.789 118.978 374.062 Q118.978 365.312 122.033 360.729 Q125.112 356.122 130.922 356.122 Z\" fill=\"#000000\" fill-rule=\"evenodd\" fill-opacity=\"1\" /><path clip-path=\"url(#clip730)\" d=\"M126.547 216.342 L142.867 216.342 L142.867 220.277 L120.922 220.277 L120.922 216.342 Q123.584 213.587 128.168 208.958 Q132.774 204.305 133.955 202.962 Q136.2 200.439 137.08 198.703 Q137.982 196.944 137.982 195.254 Q137.982 192.499 136.038 190.763 Q134.117 189.027 131.015 189.027 Q128.816 189.027 126.362 189.791 Q123.932 190.555 121.154 192.106 L121.154 187.384 Q123.978 186.249 126.432 185.671 Q128.885 185.092 130.922 185.092 Q136.293 185.092 139.487 187.777 Q142.681 190.462 142.681 194.953 Q142.681 197.083 141.871 199.004 Q141.084 200.902 138.978 203.495 Q138.399 204.166 135.297 207.383 Q132.195 210.578 126.547 216.342 Z\" fill=\"#000000\" fill-rule=\"evenodd\" fill-opacity=\"1\" /><polyline clip-path=\"url(#clip732)\" style=\"stroke:#009af9; stroke-linecap:round; stroke-linejoin:round; stroke-width:4; stroke-opacity:1; fill:none\" points=\"\n",
       "  240.392,457.267 261.107,622.767 281.823,669.629 302.538,637.886 323.254,613.985 343.97,708.355 364.685,604.623 385.401,648.066 406.116,628.269 426.832,525.898 \n",
       "  447.547,537.268 468.263,645.506 488.978,555.984 509.694,515.567 530.409,532.313 551.125,509.214 571.841,575.461 592.556,563.917 613.272,542.528 633.987,401.89 \n",
       "  654.703,339.386 675.418,205.22 696.134,257.774 716.849,174.779 737.565,153.163 758.28,140.227 778.996,87.9763 799.712,250.927 820.427,270.623 841.143,317.829 \n",
       "  861.858,331.779 882.574,420.251 903.289,443.047 924.005,520.133 944.72,577.097 965.436,588.465 986.151,626.146 1006.87,529.219 1027.58,626.199 1048.3,587.519 \n",
       "  1069.01,682.868 1089.73,814.999 1110.44,742.564 1131.16,841.283 1151.88,882.964 1172.59,826.024 1193.31,664.804 1214.02,684.285 1234.74,832.194 1255.45,727.249 \n",
       "  1276.17,745.008 1296.88,877.939 1317.6,931.457 1338.32,983.898 1359.03,1132.31 1379.75,1042.6 1400.46,1115.57 1421.18,1285.21 1441.89,1348.96 1462.61,1445.72 \n",
       "  1483.32,1366.89 1504.04,1099.09 1524.76,1164.18 1545.47,1264.78 1566.19,1313.09 1586.9,1290.28 1607.62,1165.34 1628.33,1150.7 1649.05,1222.59 1669.76,1211.11 \n",
       "  1690.48,1001.7 1711.2,1082.93 1731.91,1079.77 1752.63,1066 1773.34,1109.63 1794.06,1091.55 1814.77,1048.42 1835.49,952.929 1856.2,888.494 1876.92,945.274 \n",
       "  1897.64,957.065 1918.35,916.735 1939.07,962.037 1959.78,1048.96 1980.5,1126.9 2001.21,970.859 2021.93,830.455 2042.64,940.722 2063.36,988.045 2084.08,1018.9 \n",
       "  2104.79,1095.44 2125.51,1103.38 2146.22,1025.11 2166.94,1065.98 2187.65,1143.98 2208.37,979.232 2229.08,1080.38 2249.8,1155.29 2270.52,1167.76 2291.23,1011.89 \n",
       "  \n",
       "  \"/>\n",
       "<path clip-path=\"url(#clip730)\" d=\"\n",
       "M2010.47 198.898 L2280.29 198.898 L2280.29 95.2176 L2010.47 95.2176  Z\n",
       "  \" fill=\"#ffffff\" fill-rule=\"evenodd\" fill-opacity=\"1\"/>\n",
       "<polyline clip-path=\"url(#clip730)\" style=\"stroke:#000000; stroke-linecap:round; stroke-linejoin:round; stroke-width:4; stroke-opacity:1; fill:none\" points=\"\n",
       "  2010.47,198.898 2280.29,198.898 2280.29,95.2176 2010.47,95.2176 2010.47,198.898 \n",
       "  \"/>\n",
       "<polyline clip-path=\"url(#clip730)\" style=\"stroke:#009af9; stroke-linecap:round; stroke-linejoin:round; stroke-width:4; stroke-opacity:1; fill:none\" points=\"\n",
       "  2034.63,147.058 2179.55,147.058 \n",
       "  \"/>\n",
       "<path clip-path=\"url(#clip730)\" d=\"M2217.55 166.745 Q2215.75 171.375 2214.03 172.787 Q2212.32 174.199 2209.45 174.199 L2206.05 174.199 L2206.05 170.634 L2208.55 170.634 Q2210.31 170.634 2211.28 169.8 Q2212.25 168.967 2213.43 165.865 L2214.19 163.921 L2203.71 138.412 L2208.22 138.412 L2216.32 158.689 L2224.43 138.412 L2228.94 138.412 L2217.55 166.745 Z\" fill=\"#000000\" fill-rule=\"evenodd\" fill-opacity=\"1\" /><path clip-path=\"url(#clip730)\" d=\"M2236.23 160.402 L2243.87 160.402 L2243.87 134.037 L2235.56 135.703 L2235.56 131.444 L2243.82 129.778 L2248.5 129.778 L2248.5 160.402 L2256.14 160.402 L2256.14 164.338 L2236.23 164.338 L2236.23 160.402 Z\" fill=\"#000000\" fill-rule=\"evenodd\" fill-opacity=\"1\" /></svg>\n"
      ]
     },
     "execution_count": 22,
     "metadata": {},
     "output_type": "execute_result"
    }
   ],
   "source": [
    "plot(cumsum(randn(100)))"
   ]
  },
  {
   "cell_type": "code",
   "execution_count": 23,
   "id": "9f234041",
   "metadata": {},
   "outputs": [
    {
     "data": {
      "text/plain": [
       "\"/Users/dgleich/Dropbox/courses/cs520-2023/web/input/julia/mycs520-figure.pdf\""
      ]
     },
     "execution_count": 23,
     "metadata": {},
     "output_type": "execute_result"
    }
   ],
   "source": [
    "savefig(\"mycs520-figure.pdf\")"
   ]
  },
  {
   "cell_type": "code",
   "execution_count": 7,
   "id": "fe50b278",
   "metadata": {},
   "outputs": [
    {
     "data": {
      "text/plain": [
       "100×1 Matrix{Float64}:\n",
       "  0.5555303079694842\n",
       " -0.9643002501710098\n",
       "  0.3185010143105035\n",
       "  0.5358656681010048\n",
       "  0.7244377283963698\n",
       "  0.5569010993317579\n",
       " -0.9611473632444195\n",
       " -1.148041116380844\n",
       "  0.3843077757385845\n",
       " -0.3025517548094711\n",
       "  0.8194927722534551\n",
       "  0.3279550861596789\n",
       "  0.9510116176144341\n",
       "  ⋮\n",
       "  0.28409673421421444\n",
       "  0.20611881070430307\n",
       "  0.2614144461558663\n",
       "  1.1483960474582213\n",
       " -1.2700992620048341\n",
       " -0.14953798800856735\n",
       " -0.6055185948384988\n",
       "  0.7126834557906986\n",
       "  0.4641266750064072\n",
       "  0.20364395101511182\n",
       "  0.10196471677395817\n",
       " -0.4917173113725836"
      ]
     },
     "execution_count": 7,
     "metadata": {},
     "output_type": "execute_result"
    }
   ],
   "source": [
    "X = randn(100,1)"
   ]
  },
  {
   "cell_type": "code",
   "execution_count": 9,
   "id": "7744ba7c",
   "metadata": {},
   "outputs": [
    {
     "data": {
      "text/plain": [
       "false"
      ]
     },
     "execution_count": 9,
     "metadata": {},
     "output_type": "execute_result"
    }
   ],
   "source": [
    "vec(X) == X"
   ]
  },
  {
   "cell_type": "code",
   "execution_count": 10,
   "id": "8f05062b",
   "metadata": {},
   "outputs": [
    {
     "data": {
      "text/plain": [
       "1"
      ]
     },
     "execution_count": 10,
     "metadata": {},
     "output_type": "execute_result"
    }
   ],
   "source": [
    "1"
   ]
  },
  {
   "cell_type": "code",
   "execution_count": 11,
   "id": "2cd784cd",
   "metadata": {},
   "outputs": [
    {
     "data": {
      "text/plain": [
       "Int64"
      ]
     },
     "execution_count": 11,
     "metadata": {},
     "output_type": "execute_result"
    }
   ],
   "source": [
    "typeof(1)"
   ]
  },
  {
   "cell_type": "code",
   "execution_count": 12,
   "id": "b935bc15",
   "metadata": {},
   "outputs": [
    {
     "data": {
      "text/plain": [
       "Float64"
      ]
     },
     "execution_count": 12,
     "metadata": {},
     "output_type": "execute_result"
    }
   ],
   "source": [
    "typeof(1.0)"
   ]
  },
  {
   "cell_type": "code",
   "execution_count": 13,
   "id": "392bc416",
   "metadata": {},
   "outputs": [
    {
     "data": {
      "text/plain": [
       "0.2"
      ]
     },
     "execution_count": 13,
     "metadata": {},
     "output_type": "execute_result"
    }
   ],
   "source": [
    "1/5"
   ]
  },
  {
   "cell_type": "code",
   "execution_count": 14,
   "id": "4d1d905a",
   "metadata": {},
   "outputs": [
    {
     "data": {
      "text/plain": [
       "0"
      ]
     },
     "execution_count": 14,
     "metadata": {},
     "output_type": "execute_result"
    }
   ],
   "source": [
    "0 ÷ 5"
   ]
  },
  {
   "cell_type": "code",
   "execution_count": 15,
   "id": "b5a6178c",
   "metadata": {},
   "outputs": [
    {
     "data": {
      "text/plain": [
       "0"
      ]
     },
     "execution_count": 15,
     "metadata": {},
     "output_type": "execute_result"
    }
   ],
   "source": [
    "div(0,5)"
   ]
  },
  {
   "cell_type": "code",
   "execution_count": 16,
   "id": "47a4f952",
   "metadata": {},
   "outputs": [
    {
     "data": {
      "text/plain": [
       "5.0"
      ]
     },
     "execution_count": 16,
     "metadata": {},
     "output_type": "execute_result"
    }
   ],
   "source": [
    "α = 5.0"
   ]
  },
  {
   "cell_type": "code",
   "execution_count": 17,
   "id": "cbf1a0ff",
   "metadata": {},
   "outputs": [
    {
     "data": {
      "text/plain": [
       "2.3"
      ]
     },
     "execution_count": 17,
     "metadata": {},
     "output_type": "execute_result"
    }
   ],
   "source": [
    "β = 2.3"
   ]
  },
  {
   "cell_type": "code",
   "execution_count": 18,
   "id": "d476f255",
   "metadata": {},
   "outputs": [
    {
     "data": {
      "text/plain": [
       "11.5"
      ]
     },
     "execution_count": 18,
     "metadata": {},
     "output_type": "execute_result"
    }
   ],
   "source": [
    "α*β"
   ]
  },
  {
   "cell_type": "code",
   "execution_count": 19,
   "id": "26dd37af",
   "metadata": {},
   "outputs": [
    {
     "data": {
      "text/plain": [
       "10"
      ]
     },
     "execution_count": 19,
     "metadata": {},
     "output_type": "execute_result"
    }
   ],
   "source": [
    "😀 = 10"
   ]
  },
  {
   "cell_type": "code",
   "execution_count": 21,
   "id": "f216b363",
   "metadata": {},
   "outputs": [
    {
     "data": {
      "text/plain": [
       "3628800"
      ]
     },
     "execution_count": 21,
     "metadata": {},
     "output_type": "execute_result"
    }
   ],
   "source": [
    "factorial(😀)"
   ]
  },
  {
   "cell_type": "code",
   "execution_count": 24,
   "id": "01c75bf6",
   "metadata": {},
   "outputs": [
    {
     "data": {
      "text/plain": [
       "3-element Vector{Float64}:\n",
       " 1.0\n",
       " 2.0\n",
       " 3.0"
      ]
     },
     "execution_count": 24,
     "metadata": {},
     "output_type": "execute_result"
    }
   ],
   "source": [
    "X = [1.0, 2, 3]"
   ]
  },
  {
   "cell_type": "code",
   "execution_count": 25,
   "id": "44a70d42",
   "metadata": {},
   "outputs": [
    {
     "data": {
      "text/plain": [
       "1.0"
      ]
     },
     "execution_count": 25,
     "metadata": {},
     "output_type": "execute_result"
    }
   ],
   "source": [
    "X[1]"
   ]
  },
  {
   "cell_type": "code",
   "execution_count": 27,
   "id": "86beb421",
   "metadata": {},
   "outputs": [
    {
     "name": "stderr",
     "output_type": "stream",
     "text": [
      "\u001b[33m\u001b[1m┌ \u001b[22m\u001b[39m\u001b[33m\u001b[1mWarning: \u001b[22m\u001b[39mcould not download https://pkg.julialang.org/registries\n",
      "\u001b[33m\u001b[1m│ \u001b[22m\u001b[39m  exception = Could not resolve host: pkg.julialang.org while requesting https://pkg.julialang.org/registries\n",
      "\u001b[33m\u001b[1m└ \u001b[22m\u001b[39m\u001b[90m@ Pkg.Registry /Users/julia/.julia/scratchspaces/a66863c6-20e8-4ff4-8a62-49f30b1f605e/agent-cache/default-macmini-aarch64-4.0/build/default-macmini-aarch64-4-0/julialang/julia-release-1-dot-8/usr/share/julia/stdlib/v1.8/Pkg/src/Registry/Registry.jl:68\u001b[39m\n",
      "\u001b[32m\u001b[1m    Updating\u001b[22m\u001b[39m registry at `~/.julia/registries/General`\n",
      "\u001b[32m\u001b[1m    Updating\u001b[22m\u001b[39m git-repo `https://github.com/JuliaRegistries/General.git`\n",
      "\u001b[91m\u001b[1m┌ \u001b[22m\u001b[39m\u001b[91m\u001b[1mError: \u001b[22m\u001b[39mSome registries failed to update:\n",
      "\u001b[91m\u001b[1m│ \u001b[22m\u001b[39m    — /Users/dgleich/.julia/registries/General — failed to fetch from repo: failed to fetch from https://github.com/JuliaRegistries/General.git, error: GitError(Code:ERROR, Class:Net, failed to resolve address for github.com: nodename nor servname provided, or not known)\n",
      "\u001b[91m\u001b[1m└ \u001b[22m\u001b[39m\u001b[90m@ Pkg.Registry /Users/julia/.julia/scratchspaces/a66863c6-20e8-4ff4-8a62-49f30b1f605e/agent-cache/default-macmini-aarch64-4.0/build/default-macmini-aarch64-4-0/julialang/julia-release-1-dot-8/usr/share/julia/stdlib/v1.8/Pkg/src/Registry/Registry.jl:449\u001b[39m\n",
      "\u001b[32m\u001b[1m   Resolving\u001b[22m\u001b[39m package versions...\n",
      "\u001b[32m\u001b[1m    Updating\u001b[22m\u001b[39m `~/.julia/environments/v1.8/Project.toml`\n",
      " \u001b[90m [6fe1bfb0] \u001b[39m\u001b[92m+ OffsetArrays v1.12.8\u001b[39m\n",
      "\u001b[32m\u001b[1m  No Changes\u001b[22m\u001b[39m to `~/.julia/environments/v1.8/Manifest.toml`\n"
     ]
    }
   ],
   "source": [
    "import Pkg; Pkg.add(\"OffsetArrays\")"
   ]
  },
  {
   "cell_type": "code",
   "execution_count": 28,
   "id": "da7522b0",
   "metadata": {},
   "outputs": [],
   "source": [
    "using OffsetArrays"
   ]
  },
  {
   "cell_type": "code",
   "execution_count": 30,
   "id": "dcd3b0a3",
   "metadata": {},
   "outputs": [
    {
     "data": {
      "text/plain": [
       "10-element OffsetArray(::Vector{Float64}, 0:9) with eltype Float64 with indices 0:9:\n",
       " 0.7678722316084888\n",
       " 0.7713737318835239\n",
       " 0.6812864288721118\n",
       " 0.9446438842898601\n",
       " 0.13310007421807857\n",
       " 0.8870429102714432\n",
       " 0.9282221974850758\n",
       " 0.7819518714458586\n",
       " 0.7796844465528503\n",
       " 0.5874710198835819"
      ]
     },
     "execution_count": 30,
     "metadata": {},
     "output_type": "execute_result"
    }
   ],
   "source": [
    "x = OffsetVector(rand(10), 0:9)"
   ]
  },
  {
   "cell_type": "code",
   "execution_count": 31,
   "id": "4059a696",
   "metadata": {},
   "outputs": [
    {
     "data": {
      "text/plain": [
       "0.7678722316084888"
      ]
     },
     "execution_count": 31,
     "metadata": {},
     "output_type": "execute_result"
    }
   ],
   "source": [
    "x[0]"
   ]
  },
  {
   "cell_type": "code",
   "execution_count": null,
   "id": "3590c62c",
   "metadata": {},
   "outputs": [],
   "source": []
  }
 ],
 "metadata": {
  "kernelspec": {
   "display_name": "Julia 1.8.4",
   "language": "julia",
   "name": "julia-1.8"
  },
  "language_info": {
   "file_extension": ".jl",
   "mimetype": "application/julia",
   "name": "julia",
   "version": "1.8.4"
  }
 },
 "nbformat": 4,
 "nbformat_minor": 5
}
