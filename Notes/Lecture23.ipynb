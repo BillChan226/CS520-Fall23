{
 "cells": [
  {
   "attachments": {},
   "cell_type": "markdown",
   "metadata": {},
   "source": [
    "### Lecture 23\n",
    "\n",
    "minimize  $1/|I|\\sum_if_i(x)$"
   ]
  },
  {
   "cell_type": "code",
   "execution_count": null,
   "metadata": {},
   "outputs": [],
   "source": []
  },
  {
   "attachments": {},
   "cell_type": "markdown",
   "metadata": {},
   "source": [
    "List of topics\n",
    "+ simple 1d minimization/ clustering\n",
    "+ softwares: Jump/Convex.jl/Gurobi\n",
    "+ Raptors\n",
    "+ Unconstrained multi-d optimization\n",
    "+ Convergence\n",
    "+ Constrained \n",
    "+ Null space search\n",
    "+ Linear Programs: Polytops/Geometry/Varhis/BFS\n",
    "+ Dual LPs: Simplex method\n",
    "+ Live Seed Method\n",
    "+ Rational for Wolfe Condition\n",
    "    + first condition: $f(X_{k+1})=f(x_k+d_k\\rho_k) \\le C_1L(0)+\\alpha C_1L'(0)$,$f(x_k)+\\alpha C_1g(x_k)^Te_k$ \n",
    "    + second condition: $|g(x_k)^T\\rho_k| \\ge C_2|g(x_k)^T\\rho_k|$\n",
    "+ Back track line search\n",
    "+ Convergence arology"
   ]
  },
  {
   "cell_type": "markdown",
   "metadata": {},
   "source": []
  }
 ],
 "metadata": {
  "kernelspec": {
   "display_name": "Julia 1.8.5",
   "language": "julia",
   "name": "julia-1.8"
  },
  "language_info": {
   "name": "julia"
  },
  "orig_nbformat": 4
 },
 "nbformat": 4,
 "nbformat_minor": 2
}
