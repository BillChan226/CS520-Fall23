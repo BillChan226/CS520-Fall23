{
 "cells": [
  {
   "cell_type": "code",
   "execution_count": 6,
   "metadata": {
    "autoscroll": false
   },
   "outputs": [],
   "source": [
    "##\n",
    "using Plots, LinearAlgebra, Random, StatsBase, SparseArrays\n"
   ]
  },
  {
   "cell_type": "code",
   "execution_count": 7,
   "metadata": {
    "autoscroll": false
   },
   "outputs": [
    {
     "name": "stdout",
     "output_type": "stream",
     "text": [
      "Set parameter Username\n",
      "Academic license - for non-commercial use only - expires 2024-01-15\n",
      "Set parameter Username\n",
      "Academic license - for non-commercial use only - expires 2024-01-15\n",
      "Gurobi Optimizer version 10.0.0 build v10.0.0rc2 (mac64[arm])\n",
      "\n",
      "CPU model: Apple M1\n",
      "Thread count: 8 physical cores, 8 logical processors, using up to 8 threads\n",
      "\n",
      "Optimize a model with 348 rows, 729 columns and 2940 nonzeros\n",
      "Model fingerprint: 0xe4cb3567\n",
      "Variable types: 0 continuous, 729 integer (729 binary)\n",
      "Coefficient statistics:\n",
      "  Matrix range     [1e+00, 1e+00]\n",
      "  Objective range  [0e+00, 0e+00]\n",
      "  Bounds range     [0e+00, 0e+00]\n",
      "  RHS range        [1e+00, 1e+00]\n",
      "Presolve removed 348 rows and 729 columns\n",
      "Presolve time: 0.00s\n",
      "Presolve: All rows and columns removed\n",
      "\n",
      "Explored 0 nodes (0 simplex iterations) in 0.00 seconds (0.00 work units)\n",
      "Thread count was 1 (of 8 available processors)\n",
      "\n",
      "Solution count 1: 0 \n",
      "\n",
      "Optimal solution found (tolerance 1.00e-04)\n",
      "Best objective 0.000000000000e+00, best bound 0.000000000000e+00, gap 0.0000%\n",
      "\n",
      "User-callback calls 221, time in user-callback 0.00 sec\n"
     ]
    },
    {
     "data": {
      "text/plain": [
       "9×9 Matrix{Int64}:\n",
       " 1  9  8  4  7  2  6  3  5\n",
       " 4  2  6  5  9  3  7  1  8\n",
       " 5  7  3  6  8  1  4  2  9\n",
       " 2  1  7  8  4  6  9  5  3\n",
       " 8  4  5  2  3  9  1  6  7\n",
       " 6  3  9  7  1  5  8  4  2\n",
       " 9  6  2  1  5  7  3  8  4\n",
       " 3  5  4  9  6  8  2  7  1\n",
       " 7  8  1  3  2  4  5  9  6"
      ]
     },
     "execution_count": 7,
     "metadata": {},
     "output_type": "execute_result"
    }
   ],
   "source": [
    "##\n",
    "using Gurobi, JuMP\n",
    "function sudoku_gurobi(X)\n",
    "# SUDOKU_GUROBI Solve a sedoku puzzle using Gurobi for an Binary LP\n",
    "#\n",
    "# S=sudoku_gurobi(X)\n",
    "#   X has a set of initial conditions where anything ~= 1 ... 9 is an\n",
    "#   unknown\n",
    "# S is the solved sudoku puzzle\n",
    "\n",
    "    @assert(all(size(X) == (9, 9)))\n",
    "    # create variables\n",
    "    nvars = 9*9*9\n",
    "\n",
    "    # index the variables for easier access\n",
    "    vars = zeros(Int64, 9, 9, 9)\n",
    "    ind = 1\n",
    "    for i = 1:9\n",
    "        for j = 1:9\n",
    "            for v = 1:9\n",
    "                vars[i, j, v] = ind\n",
    "                ind = ind + 1\n",
    "            end\n",
    "        end\n",
    "    end\n",
    "\n",
    "    #obj = ones(Int64, 1, nvars) # no objective, just constraints\n",
    "\n",
    "    # add known cells as constraints\n",
    "\n",
    "    A = spzeros(nvars, 0)\n",
    "    b = ones(1, 0)\n",
    "\n",
    "    for i = 1:9\n",
    "        for j = 1:9\n",
    "            if X[i, j] < 1 || X[i, j] > 9\n",
    "                # this is a free variable, ignore\n",
    "            else\n",
    "                # this is a constraint, add it\n",
    "                cons = zeros(nvars)\n",
    "                cons[vars[i, j, X[i, j]]] = 1\n",
    "                A = [A sparse(cons)] # append a row\n",
    "                b = [b 1]\n",
    "            end\n",
    "        end\n",
    "    end\n",
    "\n",
    "    #\n",
    "    # add sudoku constraints\n",
    "    #\n",
    "\n",
    "    # each cell only has one value\n",
    "    for i = 1:9\n",
    "        for j = 1:9\n",
    "            cons = zeros(Int64, nvars)\n",
    "            for v = 1:9\n",
    "                cons[vars[i, j, v]] = 1\n",
    "            end\n",
    "            A = [A sparse(cons)]\n",
    "            b = [b 1]\n",
    "        end\n",
    "    end\n",
    "\n",
    "    # each row has 1-9\n",
    "    for i = 1:9\n",
    "        for v = 1:9\n",
    "            cons = zeros(nvars)\n",
    "            # the value v only appears in each row once\n",
    "            for j = 1:9\n",
    "                cons[vars[i, j, v]] = 1\n",
    "            end\n",
    "            A = [A sparse(cons)]\n",
    "            b = [b 1]\n",
    "        end\n",
    "    end\n",
    "\n",
    "    # each column has 1-9\n",
    "    for j = 1:9\n",
    "        for v = 1:9\n",
    "            cons = zeros(nvars)\n",
    "            # the value v only appears in each row once\n",
    "            for i = 1:9\n",
    "                cons[vars[i, j, v]] = 1\n",
    "            end\n",
    "            A = [A sparse(cons)]\n",
    "            b = [b 1]\n",
    "        end\n",
    "    end\n",
    "\n",
    "    # subgrid has 1-9\n",
    "    for v = 1:9\n",
    "        for i0 = 0:2\n",
    "            for j0 = 0:2\n",
    "                cons = zeros(nvars)\n",
    "                for i = 1:3\n",
    "                    for j = 1:3\n",
    "                        cons[vars[i+3*i0, j+3*j0, v]] = 1\n",
    "                    end\n",
    "                end\n",
    "                A = [A sparse(cons)]\n",
    "                b = [b 1]\n",
    "            end\n",
    "        end\n",
    "    end\n",
    "\n",
    "    # setup Gurobi call\n",
    "    env = Gurobi.Env()\n",
    "\n",
    "    m = Model(Gurobi.Optimizer)\n",
    "\n",
    "    # add binary variables\n",
    "    @variable(m, x[1:nvars], binary=true)\n",
    "    #add_bvars!(model, zeros(nvars))\n",
    "\n",
    "    # have the variables incorporated into the model\n",
    "    #update_model!(model)\n",
    "\n",
    "    #add_constrs_t!(model, A, '=', vec(b))\n",
    "    @constraint(m, A'*x .== vec(b))\n",
    "\n",
    "    # run optimization\n",
    "    optimize!(m)\n",
    "\n",
    "    # get results\n",
    "    x = JuMP.value.(x)\n",
    "\n",
    "    # assign solution\n",
    "    S = zeros(Int64, 9 ,9)\n",
    "    for i = 1:9\n",
    "        for j = 1:9\n",
    "            for v = 1:9\n",
    "                if x[vars[i, j, v]] > 0\n",
    "                    S[i, j] = v\n",
    "                end\n",
    "            end\n",
    "        end\n",
    "    end\n",
    "    return S\n",
    "end\n",
    "X = [0 0 8 0 0 0 6 0 0;\n",
    "     0 2 0 0 0 0 0 1 0;\n",
    "     5 0 0 6 0 0 0 0 9;\n",
    "     0 0 7 0 4 0 0 0 3;\n",
    "     0 4 0 2 0 9 0 6 0;\n",
    "     6 0 0 0 1 0 8 0 0;\n",
    "     9 0 0 0 0 7 0 0 4;\n",
    "     0 5 0 0 0 0 0 7 0;\n",
    "     0 0 1 0 0 0 5 0 0];\n",
    "S = sudoku_gurobi(X)\n",
    "\n"
   ]
  },
  {
   "cell_type": "code",
   "execution_count": 13,
   "metadata": {
    "autoscroll": false
   },
   "outputs": [
    {
     "name": "stdout",
     "output_type": "stream",
     "text": [
      "Set parameter Username\n",
      "Academic license - for non-commercial use only - expires 2024-01-15\n",
      "Set parameter Username\n",
      "Academic license - for non-commercial use only - expires 2024-01-15\n",
      "Gurobi Optimizer version 10.0.0 build v10.0.0rc2 (mac64[arm])\n",
      "\n",
      "CPU model: Apple M1\n",
      "Thread count: 8 physical cores, 8 logical processors, using up to 8 threads\n",
      "\n",
      "Optimize a model with 348 rows, 729 columns and 2940 nonzeros\n",
      "Model fingerprint: 0xe4655fd9\n",
      "Variable types: 0 continuous, 729 integer (729 binary)\n",
      "Coefficient statistics:\n",
      "  Matrix range     [1e+00, 1e+00]\n",
      "  Objective range  [0e+00, 0e+00]\n",
      "  Bounds range     [0e+00, 0e+00]\n",
      "  RHS range        [1e+00, 1e+00]\n",
      "Presolve removed 348 rows and 729 columns\n",
      "Presolve time: 0.00s\n",
      "Presolve: All rows and columns removed\n",
      "\n",
      "Explored 0 nodes (0 simplex iterations) in 0.00 seconds (0.00 work units)\n",
      "Thread count was 1 (of 8 available processors)\n",
      "\n",
      "Solution count 1: 0 \n",
      "\n",
      "Optimal solution found (tolerance 1.00e-04)\n",
      "Best objective 0.000000000000e+00, best bound 0.000000000000e+00, gap 0.0000%\n",
      "\n",
      "User-callback calls 440, time in user-callback 0.00 sec\n"
     ]
    },
    {
     "data": {
      "text/plain": [
       "9×9 Matrix{Int64}:\n",
       " 4  8  7  1  9  3  6  2  5\n",
       " 9  1  2  6  5  8  4  7  3\n",
       " 5  3  6  4  2  7  8  1  9\n",
       " 7  2  5  9  1  6  3  8  4\n",
       " 3  4  8  2  7  5  9  6  1\n",
       " 6  9  1  3  8  4  2  5  7\n",
       " 8  5  3  7  6  9  1  4  2\n",
       " 1  7  4  8  3  2  5  9  6\n",
       " 2  6  9  5  4  1  7  3  8"
      ]
     },
     "execution_count": 13,
     "metadata": {},
     "output_type": "execute_result"
    }
   ],
   "source": [
    "## Get the NYTimes hard problem\n",
    "# from 2023-01-20\n",
    "X = [0 0 7 0 9 0 6 0 0\n",
    "     9 0 2 0 0 0 4 0 3\n",
    "     5 0 0 0 0 0 8 1 0 \n",
    "     0 2 0 0 0 6 0 0 0 \n",
    "     3 0 0 0 7 5 9 0 0 \n",
    "     0 0 1 0 0 0 0 0 0\n",
    "     0 0 0 0 6 0 0 4 2\n",
    "     0 0 0 8 3 0 5 0 0 \n",
    "    0 0 0 0 0 1 0 0 0]\n",
    "S = sudoku_gurobi(X)\n"
   ]
  },
  {
   "cell_type": "code",
   "execution_count": 12,
   "metadata": {},
   "outputs": [
    {
     "name": "stdout",
     "output_type": "stream",
     "text": [
      "Set parameter Username\n",
      "Academic license - for non-commercial use only - expires 2024-01-15\n",
      "Set parameter Username\n",
      "Academic license - for non-commercial use only - expires 2024-01-15\n",
      "Gurobi Optimizer version 10.0.0 build v10.0.0rc2 (mac64[arm])\n",
      "\n",
      "CPU model: Apple M1\n",
      "Thread count: 8 physical cores, 8 logical processors, using up to 8 threads\n",
      "\n",
      "Optimize a model with 343 rows, 729 columns and 2935 nonzeros\n",
      "Model fingerprint: 0x2fbc93da\n",
      "Variable types: 0 continuous, 729 integer (729 binary)\n",
      "Coefficient statistics:\n",
      "  Matrix range     [1e+00, 1e+00]\n",
      "  Objective range  [0e+00, 0e+00]\n",
      "  Bounds range     [0e+00, 0e+00]\n",
      "  RHS range        [1e+00, 1e+00]\n",
      "Presolve removed 116 rows and 466 columns\n",
      "Presolve time: 0.01s\n",
      "Presolved: 227 rows, 263 columns, 1063 nonzeros\n",
      "Variable types: 0 continuous, 263 integer (263 binary)\n",
      "Found heuristic solution: objective 0.0000000\n",
      "\n",
      "Explored 0 nodes (0 simplex iterations) in 0.01 seconds (0.01 work units)\n",
      "Thread count was 8 (of 8 available processors)\n",
      "\n",
      "Solution count 1: 0 \n",
      "\n",
      "Optimal solution found (tolerance 1.00e-04)\n",
      "Best objective 0.000000000000e+00, best bound 0.000000000000e+00, gap 0.0000%\n",
      "\n",
      "User-callback calls 397, time in user-callback 0.00 sec\n"
     ]
    },
    {
     "data": {
      "text/plain": [
       "9×9 Matrix{Int64}:\n",
       " 1  4  8  9  6  3  2  7  5\n",
       " 9  6  2  5  1  7  4  8  3\n",
       " 5  3  7  2  4  8  6  1  9\n",
       " 7  2  5  4  9  6  8  3  1\n",
       " 3  8  6  1  7  5  9  2  4\n",
       " 4  9  1  3  8  2  7  5  6\n",
       " 8  7  3  6  5  9  1  4  2\n",
       " 2  1  9  8  3  4  5  6  7\n",
       " 6  5  4  7  2  1  3  9  8"
      ]
     },
     "execution_count": 12,
     "metadata": {},
     "output_type": "execute_result"
    }
   ],
   "source": [
    "## Get the NYTimes hard problem\n",
    "# from 2023-01-20\n",
    "X = [0 0 0 0 0 0 0 0 0\n",
    "     9 0 2 0 0 0 4 0 3\n",
    "     5 0 0 0 0 0 0 1 0 \n",
    "     0 2 0 0 0 6 0 0 0 \n",
    "     3 0 0 0 7 5 9 0 0 \n",
    "     0 0 1 0 0 0 0 0 0\n",
    "     0 0 0 0 0 0 0 4 2\n",
    "     0 0 0 8 3 0 5 0 0 \n",
    "    0 0 0 0 0 1 0 0 0]\n",
    "S1 = sudoku_gurobi(X)\n"
   ]
  },
  {
   "cell_type": "code",
   "execution_count": 14,
   "metadata": {},
   "outputs": [
    {
     "data": {
      "text/plain": [
       "false"
      ]
     },
     "execution_count": 14,
     "metadata": {},
     "output_type": "execute_result"
    }
   ],
   "source": [
    "S1 == S"
   ]
  },
  {
   "cell_type": "code",
   "execution_count": 15,
   "metadata": {},
   "outputs": [
    {
     "data": {
      "text/plain": [
       "9×9 Matrix{Int64}:\n",
       " 1  4  8  9  6  3  2  7  5\n",
       " 9  6  2  5  1  7  4  8  3\n",
       " 5  3  7  2  4  8  6  1  9\n",
       " 7  2  5  4  9  6  8  3  1\n",
       " 3  8  6  1  7  5  9  2  4\n",
       " 4  9  1  3  8  2  7  5  6\n",
       " 8  7  3  6  5  9  1  4  2\n",
       " 2  1  9  8  3  4  5  6  7\n",
       " 6  5  4  7  2  1  3  9  8"
      ]
     },
     "execution_count": 15,
     "metadata": {},
     "output_type": "execute_result"
    }
   ],
   "source": [
    "S1"
   ]
  },
  {
   "cell_type": "code",
   "execution_count": 16,
   "metadata": {},
   "outputs": [
    {
     "data": {
      "text/plain": [
       "9×9 Matrix{Int64}:\n",
       " 4  8  7  1  9  3  6  2  5\n",
       " 9  1  2  6  5  8  4  7  3\n",
       " 5  3  6  4  2  7  8  1  9\n",
       " 7  2  5  9  1  6  3  8  4\n",
       " 3  4  8  2  7  5  9  6  1\n",
       " 6  9  1  3  8  4  2  5  7\n",
       " 8  5  3  7  6  9  1  4  2\n",
       " 1  7  4  8  3  2  5  9  6\n",
       " 2  6  9  5  4  1  7  3  8"
      ]
     },
     "execution_count": 16,
     "metadata": {},
     "output_type": "execute_result"
    }
   ],
   "source": [
    "S"
   ]
  },
  {
   "cell_type": "code",
   "execution_count": null,
   "metadata": {},
   "outputs": [],
   "source": []
  }
 ],
 "metadata": {
  "kernelspec": {
   "display_name": "Julia 1.8.4",
   "language": "julia",
   "name": "julia-1.8"
  },
  "language_info": {
   "file_extension": ".jl",
   "mimetype": "application/julia",
   "name": "julia",
   "version": "1.8.4"
  }
 },
 "nbformat": 4,
 "nbformat_minor": 1
}
