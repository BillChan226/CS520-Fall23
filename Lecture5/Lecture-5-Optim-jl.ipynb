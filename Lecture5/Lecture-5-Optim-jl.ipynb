{
 "cells": [
  {
   "cell_type": "code",
   "execution_count": 14,
   "metadata": {},
   "outputs": [],
   "source": [
    "using Plots, LinearAlgebra, Random, SparseArrays\n",
    "using Optim"
   ]
  },
  {
   "cell_type": "code",
   "execution_count": 15,
   "metadata": {},
   "outputs": [
    {
     "data": {
      "text/plain": [
       " * Status: failure\n",
       "\n",
       " * Candidate solution\n",
       "    Final objective value:     NaN\n",
       "\n",
       " * Found with\n",
       "    Algorithm:     Gradient Descent\n",
       "\n",
       " * Convergence measures\n",
       "    |x - x'|               = NaN ≰ 0.0e+00\n",
       "    |x - x'|/|x'|          = NaN ≰ 0.0e+00\n",
       "    |f(x) - f(x')|         = NaN ≰ 0.0e+00\n",
       "    |f(x) - f(x')|/|f(x')| = NaN ≰ 0.0e+00\n",
       "    |g(x)|                 = NaN ≰ 1.0e-08\n",
       "\n",
       " * Work counters\n",
       "    Seconds run:   0  (vs limit Inf)\n",
       "    Iterations:    0\n",
       "    f(x) calls:    1\n",
       "    ∇f(x) calls:   1\n"
      ]
     },
     "execution_count": 15,
     "metadata": {},
     "output_type": "execute_result"
    }
   ],
   "source": [
    "# example of Rosenbrock function \n",
    "# NOTE, This doesn't work, see the next cell! \n",
    "# See these things are hard to use :) \n",
    "function f(x) \n",
    "    return (1.0 - x[1])^2 + 100.0 * (x[2] - x[1]^2)^2\n",
    "end\n",
    "function g!(x::Vector, storage::Vector)\n",
    "storage[1] = -2.0 * (1.0 - x[1]) - 400.0 * (x[2] - x[1]^2) * x[1]\n",
    "storage[2] = 200.0 * (x[2] - x[1]^2)\n",
    "end\n",
    "\n",
    "soln = optimize(f, g!, [0.0, 0.0], GradientDescent())\n"
   ]
  },
  {
   "cell_type": "code",
   "execution_count": 16,
   "metadata": {},
   "outputs": [
    {
     "data": {
      "text/plain": [
       " * Status: success\n",
       "\n",
       " * Candidate solution\n",
       "    Final objective value:     7.645688e-21\n",
       "\n",
       " * Found with\n",
       "    Algorithm:     BFGS\n",
       "\n",
       " * Convergence measures\n",
       "    |x - x'|               = 3.48e-07 ≰ 0.0e+00\n",
       "    |x - x'|/|x'|          = 3.48e-07 ≰ 0.0e+00\n",
       "    |f(x) - f(x')|         = 6.91e-14 ≰ 0.0e+00\n",
       "    |f(x) - f(x')|/|f(x')| = 9.03e+06 ≰ 0.0e+00\n",
       "    |g(x)|                 = 2.32e-09 ≤ 1.0e-08\n",
       "\n",
       " * Work counters\n",
       "    Seconds run:   0  (vs limit Inf)\n",
       "    Iterations:    16\n",
       "    f(x) calls:    53\n",
       "    ∇f(x) calls:   53\n"
      ]
     },
     "execution_count": 16,
     "metadata": {},
     "output_type": "execute_result"
    }
   ],
   "source": [
    "# example of Rosenbrock function\n",
    "function f(x) \n",
    "    return (1.0 - x[1])^2 + 100.0 * (x[2] - x[1]^2)^2\n",
    "end\n",
    "function g!(storage::Vector, x::Vector)\n",
    "storage[1] = -2.0 .* (1.0 - x[1]) - 400.0 .* (x[2] - x[1]^2) * x[1]\n",
    "storage[2] = 200.0 .* (x[2] - x[1]^2)\n",
    "end\n",
    "\n",
    "soln = optimize(f, g!, [0.0, 0.0], BFGS())\n"
   ]
  },
  {
   "cell_type": "code",
   "execution_count": null,
   "metadata": {},
   "outputs": [],
   "source": []
  },
  {
   "cell_type": "code",
   "execution_count": 9,
   "metadata": {},
   "outputs": [
    {
     "data": {
      "text/plain": [
       " * Status: failure (reached maximum number of iterations)\n",
       "\n",
       " * Candidate solution\n",
       "    Final objective value:     4.154719e-03\n",
       "\n",
       " * Found with\n",
       "    Algorithm:     Gradient Descent\n",
       "\n",
       " * Convergence measures\n",
       "    |x - x'|               = 1.82e-04 ≰ 0.0e+00\n",
       "    |x - x'|/|x'|          = 1.95e-04 ≰ 0.0e+00\n",
       "    |f(x) - f(x')|         = 8.18e-06 ≰ 0.0e+00\n",
       "    |f(x) - f(x')|/|f(x')| = 1.97e-03 ≰ 0.0e+00\n",
       "    |g(x)|                 = 8.21e-02 ≰ 1.0e-08\n",
       "\n",
       " * Work counters\n",
       "    Seconds run:   0  (vs limit Inf)\n",
       "    Iterations:    1000\n",
       "    f(x) calls:    2532\n",
       "    ∇f(x) calls:   2532\n"
      ]
     },
     "execution_count": 9,
     "metadata": {},
     "output_type": "execute_result"
    }
   ],
   "source": [
    "soln = optimize(f, g!, [0.0, 0.0], GradientDescent())"
   ]
  },
  {
   "cell_type": "code",
   "execution_count": 10,
   "metadata": {},
   "outputs": [
    {
     "data": {
      "text/plain": [
       "matrix_approx_gradient! (generic function with 1 method)"
      ]
     },
     "execution_count": 10,
     "metadata": {},
     "output_type": "execute_result"
    }
   ],
   "source": [
    "# now, we do the matrix factorization example\n",
    "# originally from Poblano example2\n",
    "\n",
    "function matrix_approx_function(x::Vector, A::Matrix, r::Int)\n",
    "    # unpack U and V from x\n",
    "    m,n = size(A)\n",
    "    U = reshape(x[1:m*r],m,r)\n",
    "    V = reshape(x[(m*r+1):end],n,r)\n",
    "    return 0.5*norm(A - U*V')^2 \n",
    "end\n",
    "\n",
    "function matrix_approx_gradient!(storage::Vector, x::Vector, A::Matrix, r::Int)\n",
    "    m,n = size(A)\n",
    "    U = reshape(x[1:m*r],m,r)\n",
    "    V = reshape(x[(m*r+1):end],n,r)\n",
    "    D = A - U*V'\n",
    "    storage[1:(m*r)] = -vec(D*V)\n",
    "    storage[(m*r+1):end] = -vec(D'*U)\n",
    "end\n"
   ]
  },
  {
   "cell_type": "code",
   "execution_count": 19,
   "metadata": {},
   "outputs": [
    {
     "name": "stdout",
     "output_type": "stream",
     "text": [
      "soln =  * Status: success\n",
      "\n",
      " * Candidate solution\n",
      "    Final objective value:     3.500000e+00\n",
      "\n",
      " * Found with\n",
      "    Algorithm:     BFGS\n",
      "\n",
      " * Convergence measures\n",
      "    |x - x'|               = 4.60e-06 ≰ 0.0e+00\n",
      "    |x - x'|/|x'|          = 3.64e-06 ≰ 0.0e+00\n",
      "    |f(x) - f(x')|         = 4.22e-11 ≰ 0.0e+00\n",
      "    |f(x) - f(x')|/|f(x')| = 1.21e-11 ≤ 1.0e-08\n",
      "    |g(x)|                 = 5.43e-09 ≤ 1.0e-08\n",
      "\n",
      " * Work counters\n",
      "    Seconds run:   0  (vs limit Inf)\n",
      "    Iterations:    11\n",
      "    f(x) calls:    31\n",
      "    ∇f(x) calls:   31\n",
      "\n",
      "objval = 7.000000000000001\n",
      "opterr = 7.000000000000001\n",
      "svderr = 5.999999999999999\n"
     ]
    }
   ],
   "source": [
    "m = 10\n",
    "n = 8\n",
    "#A = randn(m,n)\n",
    "A = Matrix(1.0I,m,n)\n",
    "r = 2\n",
    "myf = x -> matrix_approx_function(x, A, r)\n",
    "myg! = (x, storage) -> matrix_approx_gradient!(x, storage, A, r)\n",
    "\n",
    "soln = optimize(myf, myg!, ones(m*r+n*r), BFGS(), Optim.Options(f_tol = 1e-8))\n",
    "#soln = optimize(myf, myg!, randn(m*r+n*r), BFGS(), Optim.Options(f_tol = 1e-8))\n",
    "x = Optim.minimizer(soln)\n",
    "@show soln\n",
    "Uopt = reshape(x[(1:m*r)],m,r)\n",
    "Vopt = reshape(x[(m*r+1):end],n,r)\n",
    "objval = 2*myf(x)\n",
    "opterr = norm(A-Uopt*Vopt')^2\n",
    "\n",
    "Usvd,Ssvd,Vsvd = svd(A)\n",
    "svderr = norm(A-Usvd[:,1:r]*Diagonal(Ssvd[1:r])*Vsvd[:,1:r]')^2\n",
    "@show objval\n",
    "@show opterr\n",
    "@show svderr\n",
    "; # hide final output in JuliaBox"
   ]
  },
  {
   "cell_type": "code",
   "execution_count": 20,
   "metadata": {},
   "outputs": [
    {
     "data": {
      "text/plain": [
       "10×2 Matrix{Float64}:\n",
       "  1.26522     1.26522\n",
       "  1.26522     1.26522\n",
       "  1.26522     1.26522\n",
       "  1.26522     1.26522\n",
       "  1.26522     1.26522\n",
       "  1.26522     1.26522\n",
       "  1.26522     1.26522\n",
       "  1.26522     1.26522\n",
       " -5.0131e-8  -5.0131e-8\n",
       " -5.0131e-8  -5.0131e-8"
      ]
     },
     "execution_count": 20,
     "metadata": {},
     "output_type": "execute_result"
    }
   ],
   "source": [
    "Uopt"
   ]
  },
  {
   "cell_type": "code",
   "execution_count": 13,
   "metadata": {},
   "outputs": [
    {
     "data": {
      "text/plain": [
       "8×2 Matrix{Float64}:\n",
       "  0.0659192  -0.435066\n",
       " -0.341172   -0.270793\n",
       " -0.311504    0.552242\n",
       "  0.173043   -0.596362\n",
       " -0.225341   -0.256013\n",
       " -0.046164   -0.396231\n",
       " -0.269815   -0.463872\n",
       "  0.817992    0.289806"
      ]
     },
     "execution_count": 13,
     "metadata": {},
     "output_type": "execute_result"
    }
   ],
   "source": [
    "Vopt"
   ]
  },
  {
   "cell_type": "code",
   "execution_count": null,
   "metadata": {},
   "outputs": [],
   "source": []
  }
 ],
 "metadata": {
  "@webio": {
   "lastCommId": null,
   "lastKernelId": null
  },
  "kernelspec": {
   "display_name": "Julia 1.8.4",
   "language": "julia",
   "name": "julia-1.8"
  },
  "language_info": {
   "file_extension": ".jl",
   "mimetype": "application/julia",
   "name": "julia",
   "version": "1.8.4"
  }
 },
 "nbformat": 4,
 "nbformat_minor": 1
}
